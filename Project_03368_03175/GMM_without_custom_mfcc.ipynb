{
  "cells": [
    {
      "cell_type": "code",
      "execution_count": 1,
      "metadata": {
        "colab": {
          "base_uri": "https://localhost:8080/"
        },
        "id": "D1M_yCf7Vj90",
        "outputId": "06fb9e49-ec10-4c41-ccd9-79ef2eb71e9b"
      },
      "outputs": [
        {
          "output_type": "stream",
          "name": "stdout",
          "text": [
            "Mounted at /content/drive\n"
          ]
        }
      ],
      "source": [
        "from google.colab import drive\n",
        "drive.mount('/content/drive')"
      ]
    },
    {
      "cell_type": "code",
      "execution_count": null,
      "metadata": {
        "id": "mVCqVJt9V57y"
      },
      "outputs": [],
      "source": [
        "# Loading path for mfcc features\n",
        "MFCC_dataset_path = \"/content/drive/MyDrive/Emotion_Recognition/mfcc_train.mat\""
      ]
    },
    {
      "cell_type": "code",
      "execution_count": null,
      "metadata": {
        "id": "tkgWQK0FV5cx"
      },
      "outputs": [],
      "source": [
        "# Libraries to be used\n",
        "import scipy.io\n",
        "import numpy as np\n",
        "from scipy.stats import multivariate_normal\n",
        "from sklearn.mixture import GaussianMixture\n",
        "from sklearn.model_selection import train_test_split\n",
        "from sklearn.metrics import accuracy_score, confusion_matrix\n",
        "from sklearn.metrics import accuracy_score, confusion_matrix, f1_score, precision_score, recall_score, classification_report"
      ]
    },
    {
      "cell_type": "code",
      "execution_count": null,
      "metadata": {
        "colab": {
          "base_uri": "https://localhost:8080/"
        },
        "id": "A3av3RB9t8ZP",
        "outputId": "65c55351-b0d5-44d5-88b1-7971933c9f1c"
      },
      "outputs": [
        {
          "name": "stdout",
          "output_type": "stream",
          "text": [
            "Emotion categories: ['fear', 'happiness', 'sadness']\n"
          ]
        }
      ],
      "source": [
        "# Loading mfcc data and printing the classes of emotions\n",
        "mfcc_data = scipy.io.loadmat(MFCC_dataset_path)\n",
        "emotion_categories = list(mfcc_data.keys())\n",
        "emotion_categories = [e for e in emotion_categories if not e.startswith(\"__\")]\n",
        "print(\"Emotion categories:\", emotion_categories)"
      ]
    },
    {
      "cell_type": "code",
      "execution_count": null,
      "metadata": {
        "colab": {
          "background_save": true,
          "base_uri": "https://localhost:8080/"
        },
        "id": "x3QtDHBOV5UR",
        "outputId": "d550ea18-13ad-4e82-832f-ba8c2e43c525"
      },
      "outputs": [
        {
          "name": "stdout",
          "output_type": "stream",
          "text": [
            "Training GMM for emotion: fear\n",
            "Training GMM for emotion: happiness\n",
            "Training GMM for emotion: sadness\n",
            "GMMs trained for each emotion.\n"
          ]
        }
      ],
      "source": [
        "# Training Gaussian Mixture Model for every emotion\n",
        "gmm_models = {}\n",
        "\n",
        "for emotion in emotion_categories:\n",
        "    mfcc_list = []\n",
        "    print(f\"Training GMM for emotion: {emotion}\")\n",
        "\n",
        "    for i in range(mfcc_data[emotion].shape[0]):\n",
        "        mfcc_array = np.array(mfcc_data[emotion][i])\n",
        "        mfcc_list.append(mfcc_array.T)\n",
        "\n",
        "    # Making dataset one uniform\n",
        "    dataset = np.vstack(mfcc_list)\n",
        "\n",
        "    # Ready-made GMM function\n",
        "    gmm = GaussianMixture(n_components=64, covariance_type='full', random_state=42, max_iter= 2000, init_params= 'kmeans')\n",
        "    gmm.fit(dataset)\n",
        "\n",
        "    gmm_models[emotion] = gmm\n",
        "\n",
        "print(\"GMMs trained for each emotion.\")\n"
      ]
    },
    {
      "cell_type": "code",
      "execution_count": null,
      "metadata": {
        "colab": {
          "background_save": true
        },
        "id": "9Intzqx-V5Ju"
      },
      "outputs": [],
      "source": [
        "train_predictions = []\n",
        "for emotion in emotion_categories:\n",
        "    for i in range(mfcc_data[emotion].shape[0]):\n",
        "        mfcc_array = np.array(mfcc_data[emotion][i]).T\n",
        "\n",
        "        log_likelihoods = []\n",
        "        for model_emotion, model in gmm_models.items():\n",
        "            log_likelihoods.append(model.score(mfcc_array))\n",
        "\n",
        "        predicted_emotion = emotion_categories[np.argmax(log_likelihoods)]\n",
        "\n",
        "        train_predictions.append(predicted_emotion)"
      ]
    },
    {
      "cell_type": "code",
      "execution_count": null,
      "metadata": {
        "colab": {
          "background_save": true
        },
        "id": "ZUtgyYg8V45x",
        "outputId": "7493198f-21f2-4f96-ec35-f009cdf84ef4"
      },
      "outputs": [
        {
          "name": "stdout",
          "output_type": "stream",
          "text": [
            "Training Accuracy: 0.982089552238806\n",
            "Training Confusion Matrix:\n",
            "[[110   2   0]\n",
            " [  0 112   0]\n",
            " [  2   2 107]]\n"
          ]
        }
      ],
      "source": [
        "train_true_labels = []\n",
        "for emotion in emotion_categories:\n",
        "    train_true_labels.extend([emotion] * mfcc_data[emotion].shape[0])\n",
        "\n",
        "train_accuracy = accuracy_score(train_true_labels, train_predictions)\n",
        "print(f\"Training Accuracy: {train_accuracy}\")\n",
        "\n",
        "train_conf_matrix = confusion_matrix(train_true_labels, train_predictions, labels=emotion_categories)\n",
        "print(\"Training Confusion Matrix:\")\n",
        "print(train_conf_matrix)"
      ]
    },
    {
      "cell_type": "code",
      "execution_count": null,
      "metadata": {
        "colab": {
          "background_save": true
        },
        "id": "pS_FLvGTWLcr"
      },
      "outputs": [],
      "source": [
        "\n",
        "MFCC_test_dataset_audio = \"/content/drive/MyDrive/Emotion_Recognition/mfcc_test.mat\"\n",
        "mfcc_test_data = scipy.io.loadmat(MFCC_test_dataset_audio)\n",
        "\n",
        "emotion_categories_test = list(mfcc_test_data.keys())\n",
        "emotion_categories_test = [e for e in emotion_categories_test if not e.startswith(\"__\")]"
      ]
    },
    {
      "cell_type": "code",
      "execution_count": null,
      "metadata": {
        "colab": {
          "background_save": true
        },
        "id": "j-UKxzr4WNNb"
      },
      "outputs": [],
      "source": [
        "\n",
        "true_labels = []\n",
        "predicted_labels = []\n",
        "\n",
        "for emotion in emotion_categories_test:\n",
        "    for i in range(mfcc_test_data[emotion].shape[0]):\n",
        "        mfcc_array = np.array(mfcc_test_data[emotion][i]).T\n",
        "        log_likelihoods = []\n",
        "        for model_emotion, model in gmm_models.items():\n",
        "            log_likelihoods.append(model.score(mfcc_array))\n",
        "\n",
        "        predicted_emotion = emotion_categories[np.argmax(log_likelihoods)]\n",
        "\n",
        "        true_labels.append(emotion)\n",
        "        predicted_labels.append(predicted_emotion)"
      ]
    },
    {
      "cell_type": "code",
      "execution_count": null,
      "metadata": {
        "colab": {
          "background_save": true
        },
        "id": "_DxMgevAWO2n",
        "outputId": "fc4b3e1c-294f-465a-f4ae-d3f5eaf5c099"
      },
      "outputs": [
        {
          "name": "stdout",
          "output_type": "stream",
          "text": [
            "Accuracy: 1.0\n",
            "Precision (weighted): 1.0\n",
            "Recall (weighted): 1.0\n",
            "F1-score (weighted): 1.0\n",
            "\n",
            "Classification Report:\n",
            "              precision    recall  f1-score   support\n",
            "\n",
            "        fear       1.00      1.00      1.00         1\n",
            "   happiness       1.00      1.00      1.00         1\n",
            "     sadness       1.00      1.00      1.00         1\n",
            "\n",
            "    accuracy                           1.00         3\n",
            "   macro avg       1.00      1.00      1.00         3\n",
            "weighted avg       1.00      1.00      1.00         3\n",
            "\n",
            "Confusion Matrix:\n",
            "[[1 0 0]\n",
            " [0 1 0]\n",
            " [0 0 1]]\n"
          ]
        }
      ],
      "source": [
        "accuracy = accuracy_score(true_labels, predicted_labels)\n",
        "precision = precision_score(true_labels, predicted_labels, average='weighted')\n",
        "recall = recall_score(true_labels, predicted_labels, average='weighted')\n",
        "f1 = f1_score(true_labels, predicted_labels, average='weighted')\n",
        "\n",
        "print(f\"Accuracy: {accuracy}\")\n",
        "print(f\"Precision (weighted): {precision}\")\n",
        "print(f\"Recall (weighted): {recall}\")\n",
        "print(f\"F1-score (weighted): {f1}\")\n",
        "\n",
        "print(\"\\nClassification Report:\")\n",
        "print(classification_report(true_labels, predicted_labels, labels=emotion_categories))\n",
        "\n",
        "conf_matrix = confusion_matrix(true_labels, predicted_labels, labels=emotion_categories)\n",
        "print(\"Confusion Matrix:\")\n",
        "print(conf_matrix)"
      ]
    },
    {
      "cell_type": "code",
      "execution_count": null,
      "metadata": {
        "colab": {
          "background_save": true
        },
        "id": "ami93lo0xThq"
      },
      "outputs": [],
      "source": []
    }
  ],
  "metadata": {
    "accelerator": "GPU",
    "colab": {
      "gpuType": "T4",
      "provenance": []
    },
    "kernelspec": {
      "display_name": "Python 3",
      "name": "python3"
    },
    "language_info": {
      "name": "python"
    }
  },
  "nbformat": 4,
  "nbformat_minor": 0
}